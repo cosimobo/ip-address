{
 "cells": [
  {
   "cell_type": "code",
   "execution_count": 6,
   "metadata": {},
   "outputs": [
    {
     "name": "stdout",
     "output_type": "stream",
     "text": [
      "Requirement already satisfied: global-land-mask in /Users/sofia/opt/anaconda3/lib/python3.7/site-packages (1.0.0)\n",
      "Note: you may need to restart the kernel to use updated packages.\n"
     ]
    }
   ],
   "source": [
    "pip install global-land-mask"
   ]
  },
  {
   "cell_type": "code",
   "execution_count": 7,
   "metadata": {},
   "outputs": [
    {
     "name": "stdout",
     "output_type": "stream",
     "text": [
      "Requirement already satisfied: geopy in /Users/sofia/opt/anaconda3/lib/python3.7/site-packages (2.0.0)\n",
      "Requirement already satisfied: geographiclib<2,>=1.49 in /Users/sofia/opt/anaconda3/lib/python3.7/site-packages (from geopy) (1.50)\n",
      "Note: you may need to restart the kernel to use updated packages.\n"
     ]
    }
   ],
   "source": [
    "pip install geopy"
   ]
  },
  {
   "cell_type": "code",
   "execution_count": 8,
   "metadata": {},
   "outputs": [
    {
     "data": {
      "text/plain": [
       "'164.132.89.49'"
      ]
     },
     "execution_count": 8,
     "metadata": {},
     "output_type": "execute_result"
    }
   ],
   "source": [
    "import random\n",
    "import socket\n",
    "import struct\n",
    "socket.inet_ntoa(struct.pack('>I', random.randint(1, 0xffffffff)))"
   ]
  },
  {
   "cell_type": "code",
   "execution_count": 9,
   "metadata": {},
   "outputs": [
    {
     "name": "stdout",
     "output_type": "stream",
     "text": [
      "{\"ip\":\"79.50.186.51\",\"country_code\":\"IT\",\"country_name\":\"Italy\",\"region_code\":\"34\",\"region_name\":\"Veneto\",\"city\":\"Lonigo\",\"zip_code\":\"36045\",\"time_zone\":\"Europe/Rome\",\"latitude\":45.3842,\"longitude\":11.3842,\"metro_code\":0}\n",
      "\n"
     ]
    }
   ],
   "source": [
    "import requests\n",
    "\n",
    "url = \"https://freegeoip.app/json/\"\n",
    "\n",
    "headers = {\n",
    "    'accept': \"application/json\",\n",
    "    'content-type': \"application/json\"\n",
    "    }\n",
    "\n",
    "response = requests.request(\"GET\", url, headers=headers)\n",
    "\n",
    "print(response.text)"
   ]
  },
  {
   "cell_type": "code",
   "execution_count": 10,
   "metadata": {},
   "outputs": [],
   "source": [
    "import requests\n",
    "import pandas as pd\n",
    "import numpy as np\n",
    "import json\n",
    "import random\n",
    "import socket\n",
    "import struct\n",
    "from geopy.geocoders import Nominatim\n",
    "import os\n",
    "from global_land_mask import globe"
   ]
  },
  {
   "cell_type": "code",
   "execution_count": 11,
   "metadata": {},
   "outputs": [],
   "source": [
    "#fa una lista di 100 ip address random"
   ]
  },
  {
   "cell_type": "code",
   "execution_count": 12,
   "metadata": {},
   "outputs": [],
   "source": [
    "def getting_ip_address():\n",
    "    new, explored=[],[]\n",
    "    i=0\n",
    "    while i<100:\n",
    "        ip = socket.inet_ntoa(struct.pack('>I', random.randint(1, 0xffffffff)))\n",
    "        if ip in explored:\n",
    "            continue\n",
    "        else:\n",
    "            new.append(ip)\n",
    "        i+=1\n",
    "    new = pd.DataFrame(new, columns=['ip'])\n",
    "    return new"
   ]
  },
  {
   "cell_type": "code",
   "execution_count": 13,
   "metadata": {},
   "outputs": [],
   "source": [
    "#questa funzione chiama l'API e ritorna la risposta"
   ]
  },
  {
   "cell_type": "code",
   "execution_count": 14,
   "metadata": {},
   "outputs": [],
   "source": [
    "def getting_ip(row):\n",
    "    url = f\"https://freegeoip.app/json/{row}\"       # getting records from getting ip address\n",
    "    headers = {\n",
    "        'accept': \"application/json\",\n",
    "        'content-type': \"application/json\"\n",
    "        }\n",
    "    response = requests.request(\"GET\", url, headers=headers)\n",
    "    respond = json.loads(response.text)\n",
    "    return respond"
   ]
  },
  {
   "cell_type": "code",
   "execution_count": 15,
   "metadata": {},
   "outputs": [
    {
     "data": {
      "text/plain": [
       "{'ip': '79.50.186.51',\n",
       " 'country_code': 'IT',\n",
       " 'country_name': 'Italy',\n",
       " 'region_code': '34',\n",
       " 'region_name': 'Veneto',\n",
       " 'city': 'Lonigo',\n",
       " 'zip_code': '36045',\n",
       " 'time_zone': 'Europe/Rome',\n",
       " 'latitude': 45.3842,\n",
       " 'longitude': 11.3842,\n",
       " 'metro_code': 0}"
      ]
     },
     "execution_count": 15,
     "metadata": {},
     "output_type": "execute_result"
    }
   ],
   "source": [
    "getting_ip(\"79.50.186.51\") #Metto il mio ip"
   ]
  },
  {
   "cell_type": "code",
   "execution_count": 16,
   "metadata": {},
   "outputs": [],
   "source": [
    "#L'output sopra è in formato JSON (JavaScript Object Notation)\n",
    "#viene salvato come una colonna in pandas (?)\n",
    "#la funzione sotto richiama API e aggiunge informazioni alla colonna di pandas "
   ]
  },
  {
   "cell_type": "code",
   "execution_count": 17,
   "metadata": {},
   "outputs": [],
   "source": [
    "def get_information():\n",
    "    new = getting_ip_address()\n",
    "    new['info'] = new['ip'].apply(lambda row: getting_ip(row))\n",
    "    new['time_zone'] = new['info'].apply(lambda row: row['time_zone'])\n",
    "    new['latitude'] = new['info'].apply(lambda row: row['latitude'])\n",
    "    new['longitude'] = new['info'].apply(lambda row: row['longitude'])\n",
    "    new['on_land'] = new.apply(lambda row: globe.is_land(row['latitude'],row['longitude']),axis=1)\n",
    "    new = new[new['latitude']!=0]\n",
    "    new = new[new['on_land']==True]\n",
    "    new['address'] = new.apply(lambda row: getting_city_nominatim(row),axis=1)\n",
    "    return new"
   ]
  },
  {
   "cell_type": "code",
   "execution_count": 18,
   "metadata": {},
   "outputs": [],
   "source": [
    "#Questa funzione chiama il geopy API e ritorna l'output json"
   ]
  },
  {
   "cell_type": "code",
   "execution_count": 19,
   "metadata": {},
   "outputs": [],
   "source": [
    "def getting_city_nominatim(row):\n",
    "    try:\n",
    "        lat = row['latitude']\n",
    "        lon = row['longitude']\n",
    "        geolocator = Nominatim(user_agent=\"my-application\")\n",
    "        location = geolocator.reverse(f\"\"\"{lat,lon}\"\"\")\n",
    "        address = location.raw['address']\n",
    "        return address\n",
    "    except:\n",
    "        print('timeout')"
   ]
  },
  {
   "cell_type": "code",
   "execution_count": 20,
   "metadata": {},
   "outputs": [],
   "source": [
    "#adesso devo salvare sul CVS quindi faccio la funzione sotto che aggiunge i nuovi ip address al dataframe e mi assicuro che non si s"
   ]
  },
  {
   "cell_type": "code",
   "execution_count": 21,
   "metadata": {},
   "outputs": [],
   "source": [
    "def append_to_existing_df(new):\n",
    "    if os.path.isfile(f'{os.path.abspath(\"\")}\\location_of_ip_address.csv'):\n",
    "        new.to_csv('location_of_ip_address.csv', mode='a', header=False,index=False)\n",
    "    else:\n",
    "        new.to_csv('location_of_ip_address.csv', mode='w', header=True,\\\n",
    "                   columns=['ip','info','time_zone','latitude','longitude','address'],index=False)\n",
    "\n",
    "def deleting_duplicate_entries():\n",
    "    df = pd.read_csv('location_of_ip_address.csv')\n",
    "    df.sort_values('ip',inplace=True)\n",
    "    df.drop_duplicates(subset='ip',keep='first',inplace=True)\n",
    "    df.to_csv('location_of_ip_address.csv',index=False)"
   ]
  },
  {
   "cell_type": "code",
   "execution_count": 22,
   "metadata": {},
   "outputs": [],
   "source": [
    "#dopo che ho fatto run alla funzione seguente dovrebbe dare i seguenti risultati"
   ]
  },
  {
   "cell_type": "code",
   "execution_count": null,
   "metadata": {},
   "outputs": [],
   "source": [
    "def main():\n",
    "    new = get_information()\n",
    "    append_to_existing_df(new)\n",
    "    deleting_duplicate_entries()\n",
    "if __name__ == '__main__':\n",
    "    main()"
   ]
  },
  {
   "cell_type": "code",
   "execution_count": null,
   "metadata": {},
   "outputs": [],
   "source": []
  }
 ],
 "metadata": {
  "kernelspec": {
   "display_name": "Python 3",
   "language": "python",
   "name": "python3"
  },
  "language_info": {
   "codemirror_mode": {
    "name": "ipython",
    "version": 3
   },
   "file_extension": ".py",
   "mimetype": "text/x-python",
   "name": "python",
   "nbconvert_exporter": "python",
   "pygments_lexer": "ipython3",
   "version": "3.7.4"
  }
 },
 "nbformat": 4,
 "nbformat_minor": 2
}
